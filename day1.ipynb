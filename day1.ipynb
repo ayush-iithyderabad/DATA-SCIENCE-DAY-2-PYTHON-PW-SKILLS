{
 "cells": [
  {
   "cell_type": "code",
   "execution_count": 1,
   "id": "f8672adb-ead2-49bc-9129-35396bfa022c",
   "metadata": {},
   "outputs": [],
   "source": [
    "a=6387300"
   ]
  },
  {
   "cell_type": "code",
   "execution_count": 2,
   "id": "f82f528e-2082-4527-830b-86bec9f43060",
   "metadata": {},
   "outputs": [
    {
     "data": {
      "text/plain": [
       "6387300"
      ]
     },
     "execution_count": 2,
     "metadata": {},
     "output_type": "execute_result"
    }
   ],
   "source": [
    "a"
   ]
  },
  {
   "cell_type": "code",
   "execution_count": 3,
   "id": "e832bb24-98a3-4467-ad37-899a1d4f129b",
   "metadata": {},
   "outputs": [
    {
     "data": {
      "text/plain": [
       "int"
      ]
     },
     "execution_count": 3,
     "metadata": {},
     "output_type": "execute_result"
    }
   ],
   "source": [
    "type(a)"
   ]
  },
  {
   "cell_type": "code",
   "execution_count": 4,
   "id": "5a8dac88-7ba6-43dd-95cb-4f0dde5de5ba",
   "metadata": {},
   "outputs": [],
   "source": [
    "b=\"IIT HYDERABAD\""
   ]
  },
  {
   "cell_type": "code",
   "execution_count": 5,
   "id": "91424894-0f2f-484c-a2d1-403018ab43de",
   "metadata": {},
   "outputs": [
    {
     "data": {
      "text/plain": [
       "'IIT HYDERABAD'"
      ]
     },
     "execution_count": 5,
     "metadata": {},
     "output_type": "execute_result"
    }
   ],
   "source": [
    "b"
   ]
  },
  {
   "cell_type": "code",
   "execution_count": 6,
   "id": "bb9a091e-3a66-4a29-a385-0428ffc900b5",
   "metadata": {},
   "outputs": [
    {
     "data": {
      "text/plain": [
       "str"
      ]
     },
     "execution_count": 6,
     "metadata": {},
     "output_type": "execute_result"
    }
   ],
   "source": [
    "type(b)"
   ]
  },
  {
   "cell_type": "code",
   "execution_count": 7,
   "id": "8ed586bb-83d3-460d-a336-cb10d97517ee",
   "metadata": {},
   "outputs": [],
   "source": [
    "c=56.984"
   ]
  },
  {
   "cell_type": "code",
   "execution_count": 8,
   "id": "3b1f0966-1aa8-4b80-8257-9a09435d3f0c",
   "metadata": {},
   "outputs": [
    {
     "data": {
      "text/plain": [
       "56.984"
      ]
     },
     "execution_count": 8,
     "metadata": {},
     "output_type": "execute_result"
    }
   ],
   "source": [
    "c"
   ]
  },
  {
   "cell_type": "code",
   "execution_count": 9,
   "id": "104e9e99-0790-448c-8608-ee6b60c9ce55",
   "metadata": {},
   "outputs": [
    {
     "data": {
      "text/plain": [
       "float"
      ]
     },
     "execution_count": 9,
     "metadata": {},
     "output_type": "execute_result"
    }
   ],
   "source": [
    "type(c)"
   ]
  },
  {
   "cell_type": "code",
   "execution_count": 10,
   "id": "04a6a59a-3433-4855-a727-f96d487b763c",
   "metadata": {},
   "outputs": [],
   "source": [
    "d=True"
   ]
  },
  {
   "cell_type": "code",
   "execution_count": 11,
   "id": "af9d9e67-2a25-463a-8298-f8d9ac67c00e",
   "metadata": {},
   "outputs": [
    {
     "data": {
      "text/plain": [
       "True"
      ]
     },
     "execution_count": 11,
     "metadata": {},
     "output_type": "execute_result"
    }
   ],
   "source": [
    "d"
   ]
  },
  {
   "cell_type": "code",
   "execution_count": 12,
   "id": "104150d7-5c5f-45f5-8e89-c18c0de70a93",
   "metadata": {},
   "outputs": [
    {
     "data": {
      "text/plain": [
       "bool"
      ]
     },
     "execution_count": 12,
     "metadata": {},
     "output_type": "execute_result"
    }
   ],
   "source": [
    "type(d)"
   ]
  },
  {
   "cell_type": "code",
   "execution_count": 13,
   "id": "49165d53-abd5-4ac2-8418-f6c232ff8319",
   "metadata": {},
   "outputs": [
    {
     "data": {
      "text/plain": [
       "0"
      ]
     },
     "execution_count": 13,
     "metadata": {},
     "output_type": "execute_result"
    }
   ],
   "source": [
    "True*False"
   ]
  },
  {
   "cell_type": "code",
   "execution_count": 14,
   "id": "65f67dc8-fc50-4226-9f9e-6de0efd0e1d4",
   "metadata": {},
   "outputs": [
    {
     "data": {
      "text/plain": [
       "1"
      ]
     },
     "execution_count": 14,
     "metadata": {},
     "output_type": "execute_result"
    }
   ],
   "source": [
    "True+False"
   ]
  },
  {
   "cell_type": "code",
   "execution_count": 15,
   "id": "e08adcb2-68dc-466a-a548-c0b768999e3e",
   "metadata": {},
   "outputs": [],
   "source": [
    "f=5+4j"
   ]
  },
  {
   "cell_type": "code",
   "execution_count": 16,
   "id": "7a437a65-b10d-40ca-9eef-1cc8ed2e6ade",
   "metadata": {},
   "outputs": [
    {
     "data": {
      "text/plain": [
       "5.0"
      ]
     },
     "execution_count": 16,
     "metadata": {},
     "output_type": "execute_result"
    }
   ],
   "source": [
    "f.real"
   ]
  },
  {
   "cell_type": "code",
   "execution_count": 17,
   "id": "5236a758-0848-4ebe-9c35-6bc5edec879d",
   "metadata": {},
   "outputs": [
    {
     "data": {
      "text/plain": [
       "4.0"
      ]
     },
     "execution_count": 17,
     "metadata": {},
     "output_type": "execute_result"
    }
   ],
   "source": [
    "f.imag"
   ]
  },
  {
   "cell_type": "code",
   "execution_count": 18,
   "id": "8870e52b-9c1c-4f2f-9d1b-0d67e743f15d",
   "metadata": {},
   "outputs": [
    {
     "data": {
      "text/plain": [
       "(5+4j)"
      ]
     },
     "execution_count": 18,
     "metadata": {},
     "output_type": "execute_result"
    }
   ],
   "source": [
    "f"
   ]
  },
  {
   "cell_type": "code",
   "execution_count": 19,
   "id": "bc24d094-499f-4563-ab44-8561dc4c8186",
   "metadata": {},
   "outputs": [
    {
     "data": {
      "text/plain": [
       "complex"
      ]
     },
     "execution_count": 19,
     "metadata": {},
     "output_type": "execute_result"
    }
   ],
   "source": [
    "type(f)"
   ]
  },
  {
   "cell_type": "raw",
   "id": "93bebcbb-6fbf-4802-a5b2-59dac382f6e1",
   "metadata": {},
   "source": [
    " ## numeric variable name  is  not allowed \\\\ 345=\"ayush\""
   ]
  },
  {
   "cell_type": "raw",
   "id": "04754bfc-e3ae-436d-aff2-f8352f11f9e2",
   "metadata": {},
   "source": [
    "## alphanumeric variable name is not allowed \\\\ 45ak=65"
   ]
  },
  {
   "cell_type": "raw",
   "id": "d1fd86ad-0af4-462c-bf89-5281f142b7d4",
   "metadata": {},
   "source": [
    "## { ## is used for comment}"
   ]
  },
  {
   "cell_type": "raw",
   "id": "e8655ea7-92be-4b0a-a3dd-34431f8c57d8",
   "metadata": {},
   "source": [
    " ## variable name should not start from special case character \\\\ $a=\"ayush\""
   ]
  }
 ],
 "metadata": {
  "kernelspec": {
   "display_name": "Python 3 (ipykernel)",
   "language": "python",
   "name": "python3"
  },
  "language_info": {
   "codemirror_mode": {
    "name": "ipython",
    "version": 3
   },
   "file_extension": ".py",
   "mimetype": "text/x-python",
   "name": "python",
   "nbconvert_exporter": "python",
   "pygments_lexer": "ipython3",
   "version": "3.10.8"
  }
 },
 "nbformat": 4,
 "nbformat_minor": 5
}
